{
 "cells": [
  {
   "cell_type": "code",
   "execution_count": 1,
   "id": "bdb48916",
   "metadata": {},
   "outputs": [
    {
     "name": "stdout",
     "output_type": "stream",
     "text": [
      " Data scraped and saved to imdb_fixed_2024_movies.csv\n"
     ]
    }
   ],
   "source": [
    "from selenium import webdriver\n",
    "from selenium.webdriver.common.by import By\n",
    "import pandas as pd\n",
    "import time\n",
    "import re\n",
    "\n",
    "driver = webdriver.Chrome()\n",
    "driver.get(\"https://www.imdb.com/search/title/?title_type=feature&release_date=2024-01-01,2024-12-31\")\n",
    "time.sleep(5)\n",
    "\n",
    "# Collect movie data\n",
    "movies = driver.find_elements(By.XPATH, \"//li[@class='ipc-metadata-list-summary-item']\")\n",
    "data = []\n",
    "\n",
    "for movie in movies:\n",
    "    try:\n",
    "        title = movie.find_element(By.XPATH, \".//h3[contains(@class, 'ipc-title__text')]\").text\n",
    "        title = title.split(\". \", 1)[-1].strip()\n",
    "    except:\n",
    "        title = \"N/A\"\n",
    "\n",
    "    try:\n",
    "        genre_elements = movie.find_elements(By.XPATH, \".//span[@class='ipc-chip__text']\")\n",
    "        genre = \", \".join([g.text for g in genre_elements])\n",
    "    except:\n",
    "        genre = \"N/A\"\n",
    "\n",
    "    try:\n",
    "        duration = movie.find_element(By.XPATH, \".//span[contains(text(),'h') or contains(text(),'min')]\").text\n",
    "    except:\n",
    "        duration = \"N/A\"\n",
    "\n",
    "    try:\n",
    "        rating = movie.find_element(By.XPATH, \".//span[contains(@class,'ipc-rating-star')]\").text\n",
    "        rating = re.search(r'\\d+\\.\\d+', rating).group() if rating else \"N/A\"\n",
    "    except:\n",
    "        rating = \"N/A\"\n",
    "\n",
    "    try:\n",
    "        votes = movie.find_element(By.XPATH, \".//span[contains(@class, 'ipc-rating-star--voteCount')]\").text\n",
    "        votes = votes.replace(\"(\", \"\").replace(\")\", \"\").strip()\n",
    "    except:\n",
    "        votes = \"N/A\"\n",
    "\n",
    "    data.append({\n",
    "        \"Movie Name\": title,\n",
    "        \"Genre\": genre,\n",
    "        \"IMDb Rating\": rating,\n",
    "        \"Vote Count\": votes,\n",
    "        \"Duration\": duration\n",
    "    })\n",
    "\n",
    "\n",
    "driver.quit()\n",
    "\n",
    "\n",
    "df = pd.DataFrame(data)\n",
    "df.to_csv(r\"C:\\Users\\prati\\OneDrive\\Desktop\\project1\\imdb_fixed_2024_movies.csv\", index=False)\n",
    "\n",
    "print(\" Data scraped and saved to imdb_fixed_2024_movies.csv\")\n"
   ]
  },
  {
   "cell_type": "code",
   "execution_count": null,
   "id": "67b17c87",
   "metadata": {},
   "outputs": [],
   "source": []
  }
 ],
 "metadata": {
  "kernelspec": {
   "display_name": ".venv (3.12.10)",
   "language": "python",
   "name": "python3"
  },
  "language_info": {
   "codemirror_mode": {
    "name": "ipython",
    "version": 3
   },
   "file_extension": ".py",
   "mimetype": "text/x-python",
   "name": "python",
   "nbconvert_exporter": "python",
   "pygments_lexer": "ipython3",
   "version": "3.12.10"
  }
 },
 "nbformat": 4,
 "nbformat_minor": 5
}
